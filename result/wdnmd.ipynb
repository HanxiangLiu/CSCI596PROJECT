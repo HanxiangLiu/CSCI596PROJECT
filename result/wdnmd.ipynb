{
 "cells": [
  {
   "cell_type": "code",
   "execution_count": 7,
   "metadata": {},
   "outputs": [
    {
     "name": "stdout",
     "output_type": "stream",
     "text": [
      "['iteration_0.png', 'iteration_1.png', 'iteration_2.png', 'iteration_3.png', 'iteration_4.png', 'iteration_5.png', 'iteration_6.png', 'iteration_7.png', 'iteration_8.png', 'iteration_9.png', 'iteration_10.png', 'iteration_11.png', 'iteration_12.png', 'iteration_13.png', 'iteration_14.png', 'iteration_15.png', 'iteration_16.png', 'iteration_17.png', 'iteration_18.png', 'iteration_19.png', 'iteration_20.png', 'iteration_21.png', 'iteration_22.png', 'iteration_23.png', 'iteration_24.png', 'iteration_25.png', 'iteration_26.png', 'iteration_27.png', 'iteration_28.png', 'iteration_29.png', 'iteration_30.png', 'iteration_31.png', 'iteration_32.png', 'iteration_33.png', 'iteration_34.png', 'iteration_35.png', 'iteration_36.png', 'iteration_37.png', 'iteration_38.png', 'iteration_39.png', 'iteration_40.png', 'iteration_41.png', 'iteration_42.png', 'iteration_43.png', 'iteration_44.png', 'iteration_45.png', 'iteration_46.png', 'iteration_47.png', 'iteration_48.png', 'iteration_49.png']\n"
     ]
    },
    {
     "name": "stderr",
     "output_type": "stream",
     "text": [
      "C:\\Users\\41516\\AppData\\Local\\Temp\\ipykernel_12756\\2709597900.py:21: DeprecationWarning: Starting with ImageIO v3 the behavior of this function will switch to that of iio.v3.imread. To keep the current behavior (and make this warning disappear) use `import imageio.v2 as imageio` or call `imageio.v2.imread` directly.\n",
      "  images.append(imageio.imread(\"./img/\"+filename))\n"
     ]
    }
   ],
   "source": [
    "# load all the png images in the folder and convert them into a gif video\n",
    "\n",
    "import os\n",
    "import imageio\n",
    "\n",
    "# load all the png images in the folder\n",
    "filenames = []\n",
    "for file in os.listdir('./img/'):\n",
    "    # load the png images according to the file name\n",
    "    if file.endswith('.png'):\n",
    "        filenames.append(file)\n",
    "# sort the file names\n",
    "filenames.sort(key=lambda x: int(x[10:-4]))\n",
    "print(filenames)\n",
    "\n",
    "# create a gif video\n",
    "# set the gif iterable \n",
    "\n",
    "images = []\n",
    "for filename in filenames:\n",
    "    images.append(imageio.imread(\"./img/\"+filename))\n",
    "# save the gif video with name \"wdnmd.gif\"\n",
    "# the gif should be iterable\n",
    "\n",
    "imageio.mimsave('./wdnmd.gif', images, duration=0.1, loop=0)\n",
    "\n",
    "\n",
    "# with imageio.get_writer('wdnmd.gif', mode='I') as writer:\n",
    "#     for filename in filenames:\n",
    "#         image = imageio.imread(\"./img/\"+filename)\n",
    "#         writer.append_data(image)\n",
    "\n",
    "# save the gif video with name \"wdnmd.gif\"\n",
    "# os.rename('wdnmd.gif', '../wdnmd.gif')"
   ]
  },
  {
   "cell_type": "code",
   "execution_count": 6,
   "metadata": {},
   "outputs": [],
   "source": [
    "# delete all the png images\n",
    "for filename in filenames:\n",
    "    os.remove(filename)"
   ]
  },
  {
   "cell_type": "code",
   "execution_count": null,
   "metadata": {},
   "outputs": [],
   "source": []
  }
 ],
 "metadata": {
  "kernelspec": {
   "display_name": "base",
   "language": "python",
   "name": "python3"
  },
  "language_info": {
   "codemirror_mode": {
    "name": "ipython",
    "version": 3
   },
   "file_extension": ".py",
   "mimetype": "text/x-python",
   "name": "python",
   "nbconvert_exporter": "python",
   "pygments_lexer": "ipython3",
   "version": "3.9.18"
  }
 },
 "nbformat": 4,
 "nbformat_minor": 2
}
